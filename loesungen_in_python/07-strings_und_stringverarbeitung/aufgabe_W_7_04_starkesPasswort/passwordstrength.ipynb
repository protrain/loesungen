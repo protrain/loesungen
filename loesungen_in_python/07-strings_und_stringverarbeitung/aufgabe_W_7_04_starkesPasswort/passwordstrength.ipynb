{
 "cells": [
  {
   "cell_type": "code",
   "execution_count": 3,
   "metadata": {},
   "outputs": [
    {
     "name": "stdout",
     "output_type": "stream",
     "text": [
      "True\n",
      "True\n",
      "True\n",
      "True\n",
      "False\n",
      "False\n",
      "False\n",
      "False\n",
      "False\n"
     ]
    }
   ],
   "source": [
    "def isStrong (password):\n",
    "    #check length\n",
    "    length = len(password) >= 8\n",
    "\n",
    "    #check lowercase letters\n",
    "    lower = password.upper() != password\n",
    "\n",
    "    #check uppercase letters\n",
    "    upper = password.lower() != password\n",
    "\n",
    "    #check for numbers\n",
    "    number = False\n",
    "    for i in range(1,11):\n",
    "        if password.find(str(i)) != -1:\n",
    "            number = True\n",
    "            break\n",
    "\n",
    "    #check for special characters\n",
    "    special = False\n",
    "    for char in ['!', '*']:\n",
    "        if password.find(char) != -1:\n",
    "            special = True\n",
    "            break\n",
    "\n",
    "    return length and lower and upper and number and special\n",
    "\n",
    "\n",
    "print (isStrong(\"eVJo2!8IrRo\"))\n",
    "print (isStrong(\"aH6*LauTp21u\"))\n",
    "print (isStrong(\"o1hKeaZG*!o\"))\n",
    "print (isStrong(\"S3cr3ts!\"))\n",
    "print (isStrong(\"Passwort123\"))\n",
    "print (isStrong(\"passwort!23\"))\n",
    "print (isStrong(\"PASSWORT!23\"))\n",
    "print (isStrong(\"!2Bcv\"))\n",
    "print (isStrong(\"123456789!\"))"
   ]
  },
  {
   "cell_type": "code",
   "execution_count": null,
   "metadata": {},
   "outputs": [],
   "source": []
  }
 ],
 "metadata": {
  "interpreter": {
   "hash": "6b47d022f79cd0c212df4b5e037bf3de981c5ac42cc31fa25aff71cb72023ff2"
  },
  "kernelspec": {
   "display_name": "Python 3.9.7 64-bit ('base': conda)",
   "language": "python",
   "name": "python3"
  },
  "language_info": {
   "codemirror_mode": {
    "name": "ipython",
    "version": 3
   },
   "file_extension": ".py",
   "mimetype": "text/x-python",
   "name": "python",
   "nbconvert_exporter": "python",
   "pygments_lexer": "ipython3",
   "version": "3.9.7"
  },
  "orig_nbformat": 4
 },
 "nbformat": 4,
 "nbformat_minor": 2
}
