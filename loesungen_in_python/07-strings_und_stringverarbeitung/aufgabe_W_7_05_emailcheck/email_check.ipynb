{
 "cells": [
  {
   "cell_type": "code",
   "execution_count": null,
   "metadata": {},
   "outputs": [
    {
     "ename": "",
     "evalue": "",
     "output_type": "error",
     "traceback": [
      "\u001b[1;31mFailed to start the Kernel. \n",
      "Failed to start the Kernel 'base (Python 3.9.7)'. \n",
      "View Jupyter <a href='command:jupyter.viewOutput'>log</a> for further details. spawn C:\\Users\\seredav\\Anaconda3\\python.exe ENOENT"
     ]
    }
   ],
   "source": [
    "def isEmail (email_address):\n",
    "    at = email_address.find(\"@\")\n",
    "    dot = email_address.find(\".\",at)\n",
    "\n",
    "    prefix = email_address[0:at]\n",
    "    domain_name = email_address[at+1:dot]\n",
    "    suffix = email_address[dot+1:]\n",
    "    \n",
    "    return len(prefix) > 1 and len(domain_name) >1 and domain_name.find(\"@\") == -1 and len(suffix) < 4\n",
    "\n",
    "\n",
    "\n",
    "\n",
    "\n",
    "\n",
    "print(isEmail(\"john@doe.de\"))\n",
    "print(isEmail(\"john@.net\"))\n",
    "print(isEmail(\"john@doe.net\"))\n",
    "print(isEmail(\"@.net\"))\n",
    "print(isEmail(\"john@doe.shop\"))"
   ]
  },
  {
   "cell_type": "code",
   "execution_count": null,
   "metadata": {},
   "outputs": [],
   "source": []
  }
 ],
 "metadata": {
  "interpreter": {
   "hash": "6b47d022f79cd0c212df4b5e037bf3de981c5ac42cc31fa25aff71cb72023ff2"
  },
  "kernelspec": {
   "display_name": "Python 3.9.7 64-bit ('base': conda)",
   "language": "python",
   "name": "python3"
  },
  "language_info": {
   "name": "python",
   "version": "3.9.7"
  },
  "orig_nbformat": 4
 },
 "nbformat": 4,
 "nbformat_minor": 2
}
