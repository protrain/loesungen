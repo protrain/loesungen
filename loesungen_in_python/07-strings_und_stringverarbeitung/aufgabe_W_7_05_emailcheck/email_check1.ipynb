def isEmail (email_address):
    # finde das @ und den ersten . nach dem @
    at = email_address.find("@")
    dot = email_address.find(".",at)

    # identifiziere die drei relevanten Teile der Adresse
    prefix = email_address[0:at]
    domain_name = email_address[at+1:dot]
    suffix = email_address[dot+1:]
    
    #Prüfe die Email-Teile
    return len(prefix) > 1 and len(domain_name) >1 and domain_name.find("@") == -1 and len(suffix) in range(1:4)







print(isEmail("john@doe.de"))
print(isEmail("john@.net"))
print(isEmail("john@doe.net"))
print(isEmail("@.net"))
print(isEmail("john@doe.shop"))

# akzeptiert auch Emails, mit einem '.' vor dem '@'
print(isEmail("john.doe@email.com"))