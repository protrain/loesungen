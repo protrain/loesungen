{
 "cells": [
  {
   "cell_type": "code",
   "execution_count": 5,
   "metadata": {},
   "outputs": [
    {
     "name": "stdout",
     "output_type": "stream",
     "text": [
      "True\n",
      "False\n",
      "True\n",
      "False\n",
      "False\n"
     ]
    }
   ],
   "source": [
    "def isEmail (email_address):\n",
    "    at = email_address.find(\"@\")\n",
    "    dot = email_address.find(\".\",at)\n",
    "\n",
    "    prefix = email_address[0:at]\n",
    "    domain_name = email_address[at+1:dot]\n",
    "    suffix = email_address[dot+1:]\n",
    "    \n",
    "    return len(prefix) > 1 and len(domain_name) >1 and domain_name.find(\"@\") == -1 and len(suffix) < 4\n",
    "\n",
    "\n",
    "\n",
    "\n",
    "\n",
    "\n",
    "print(isEmail(\"john@doe.de\"))\n",
    "print(isEmail(\"john@.net\"))\n",
    "print(isEmail(\"john@doe.net\"))\n",
    "print(isEmail(\"@.net\"))\n",
    "print(isEmail(\"john@doe.shop\"))"
   ]
  },
  {
   "cell_type": "code",
   "execution_count": 4,
   "metadata": {},
   "outputs": [
    {
     "name": "stdout",
     "output_type": "stream",
     "text": [
      "True\n",
      "False\n",
      "True\n",
      "False\n",
      "False\n",
      "True\n"
     ]
    }
   ],
   "source": [
    "def isEmail (email_address):\n",
    "    # finde das @ und den ersten . nach dem @\n",
    "    at = email_address.find(\"@\")\n",
    "    dot = email_address.find(\".\",at)\n",
    "\n",
    "    # identifiziere die drei relevanten Teile der Adresse\n",
    "    prefix = email_address[0:at]\n",
    "    domain_name = email_address[at+1:dot]\n",
    "    suffix = email_address[dot+1:]\n",
    "    \n",
    "    #Prüfe die Email-Teile\n",
    "    return len(prefix) > 1 and len(domain_name) >1 and domain_name.find(\"@\") == -1 and (0 < len(suffix) <4)\n",
    "\n",
    "\n",
    "\n",
    "\n",
    "\n",
    "\n",
    "\n",
    "print(isEmail(\"john@doe.de\"))\n",
    "print(isEmail(\"john@.net\"))\n",
    "print(isEmail(\"john@doe.net\"))\n",
    "print(isEmail(\"@.net\"))\n",
    "print(isEmail(\"john@doe.shop\"))\n",
    "\n",
    "# akzeptiert auch Emails, mit einem '.' vor dem '@'\n",
    "print(isEmail(\"john.doe@email.com\"))"
   ]
  },
  {
   "cell_type": "code",
   "execution_count": null,
   "metadata": {},
   "outputs": [],
   "source": []
  }
 ],
 "metadata": {
  "interpreter": {
   "hash": "6b47d022f79cd0c212df4b5e037bf3de981c5ac42cc31fa25aff71cb72023ff2"
  },
  "kernelspec": {
   "display_name": "Python 3.9.7 64-bit ('base': conda)",
   "language": "python",
   "name": "python3"
  },
  "language_info": {
   "codemirror_mode": {
    "name": "ipython",
    "version": 3
   },
   "file_extension": ".py",
   "mimetype": "text/x-python",
   "name": "python",
   "nbconvert_exporter": "python",
   "pygments_lexer": "ipython3",
   "version": "3.9.7"
  },
  "orig_nbformat": 4
 },
 "nbformat": 4,
 "nbformat_minor": 2
}
